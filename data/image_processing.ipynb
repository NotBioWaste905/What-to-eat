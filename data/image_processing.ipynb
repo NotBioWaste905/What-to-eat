{
 "cells": [
  {
   "cell_type": "code",
   "execution_count": 3,
   "metadata": {},
   "outputs": [],
   "source": [
    "import kagglehub\n",
    "import glob"
   ]
  },
  {
   "cell_type": "code",
   "execution_count": 2,
   "metadata": {},
   "outputs": [
    {
     "name": "stdout",
     "output_type": "stream",
     "text": [
      "Downloading from https://www.kaggle.com/api/v1/datasets/download/dansbecker/food-101?dataset_version_number=1...\n"
     ]
    },
    {
     "name": "stderr",
     "output_type": "stream",
     "text": [
      "100%|██████████| 9.38G/9.38G [25:19<00:00, 6.63MB/s]  "
     ]
    },
    {
     "name": "stdout",
     "output_type": "stream",
     "text": [
      "Extracting files...\n"
     ]
    },
    {
     "name": "stderr",
     "output_type": "stream",
     "text": [
      "\n"
     ]
    },
    {
     "name": "stdout",
     "output_type": "stream",
     "text": [
      "Path to dataset files: /home/askatasuna/.cache/kagglehub/datasets/dansbecker/food-101/versions/1\n"
     ]
    }
   ],
   "source": [
    "# Download latest version\n",
    "path = kagglehub.dataset_download(\"dansbecker/food-101\")\n",
    "\n",
    "print(\"Path to dataset files:\", path)"
   ]
  },
  {
   "cell_type": "code",
   "execution_count": 7,
   "metadata": {},
   "outputs": [
    {
     "data": {
      "text/plain": [
       "101"
      ]
     },
     "execution_count": 7,
     "metadata": {},
     "output_type": "execute_result"
    }
   ],
   "source": [
    "labels = [x.split('/')[-1] for x in glob.glob(path + \"/food-101/food-101/images/*\")]\n",
    "len(labels)"
   ]
  },
  {
   "cell_type": "code",
   "execution_count": 9,
   "metadata": {},
   "outputs": [
    {
     "data": {
      "text/plain": [
       "['onion_rings',\n",
       " 'gyoza',\n",
       " 'lobster_bisque',\n",
       " 'guacamole',\n",
       " 'gnocchi',\n",
       " 'falafel',\n",
       " 'club_sandwich',\n",
       " 'fried_calamari',\n",
       " 'bread_pudding',\n",
       " 'spring_rolls',\n",
       " 'donuts',\n",
       " 'greek_salad',\n",
       " 'macaroni_and_cheese',\n",
       " 'fish_and_chips',\n",
       " 'creme_brulee',\n",
       " 'miso_soup',\n",
       " 'filet_mignon',\n",
       " 'beignets',\n",
       " 'ravioli',\n",
       " 'caprese_salad',\n",
       " 'lobster_roll_sandwich',\n",
       " 'grilled_salmon',\n",
       " 'pho',\n",
       " 'french_onion_soup',\n",
       " 'spaghetti_carbonara',\n",
       " 'oysters',\n",
       " 'edamame',\n",
       " 'beet_salad',\n",
       " 'paella',\n",
       " 'deviled_eggs',\n",
       " 'french_fries',\n",
       " 'frozen_yogurt',\n",
       " 'hummus',\n",
       " 'cheese_plate',\n",
       " 'baklava',\n",
       " 'tuna_tartare',\n",
       " 'sushi',\n",
       " 'garlic_bread',\n",
       " 'eggs_benedict',\n",
       " 'bibimbap',\n",
       " 'beef_carpaccio',\n",
       " 'bruschetta',\n",
       " 'ceviche',\n",
       " 'tiramisu',\n",
       " 'pork_chop',\n",
       " 'strawberry_shortcake',\n",
       " 'peking_duck',\n",
       " 'seaweed_salad',\n",
       " 'croque_madame',\n",
       " 'ice_cream',\n",
       " 'shrimp_and_grits',\n",
       " 'macarons',\n",
       " 'pancakes',\n",
       " 'mussels',\n",
       " 'hot_and_sour_soup',\n",
       " 'lasagna',\n",
       " 'steak',\n",
       " 'carrot_cake',\n",
       " 'cheesecake',\n",
       " 'chicken_curry',\n",
       " 'pad_thai',\n",
       " 'sashimi',\n",
       " 'caesar_salad',\n",
       " 'omelette',\n",
       " 'nachos',\n",
       " 'escargots',\n",
       " 'huevos_rancheros',\n",
       " 'hamburger',\n",
       " 'beef_tartare',\n",
       " 'clam_chowder',\n",
       " 'cannoli',\n",
       " 'spaghetti_bolognese',\n",
       " 'grilled_cheese_sandwich',\n",
       " 'samosa',\n",
       " 'tacos',\n",
       " 'takoyaki',\n",
       " 'baby_back_ribs',\n",
       " 'breakfast_burrito',\n",
       " 'chocolate_mousse',\n",
       " 'crab_cakes',\n",
       " 'risotto',\n",
       " 'chocolate_cake',\n",
       " 'fried_rice',\n",
       " 'panna_cotta',\n",
       " 'pizza',\n",
       " 'chicken_quesadilla',\n",
       " 'cup_cakes',\n",
       " 'foie_gras',\n",
       " 'scallops',\n",
       " 'red_velvet_cake',\n",
       " 'french_toast',\n",
       " 'waffles',\n",
       " 'apple_pie',\n",
       " 'hot_dog',\n",
       " 'chicken_wings',\n",
       " 'dumplings',\n",
       " 'ramen',\n",
       " 'prime_rib',\n",
       " 'churros',\n",
       " 'pulled_pork_sandwich',\n",
       " 'poutine']"
      ]
     },
     "execution_count": 9,
     "metadata": {},
     "output_type": "execute_result"
    }
   ],
   "source": [
    "labels"
   ]
  },
  {
   "cell_type": "markdown",
   "metadata": {},
   "source": [
    "Well, that's quite a dissapointment that there are only cooked food in here. Let's try it out with another dataset."
   ]
  },
  {
   "cell_type": "code",
   "execution_count": 14,
   "metadata": {},
   "outputs": [
    {
     "ename": "Exception",
     "evalue": "The API for Deep Lake 4.0 has changed significantly, including the `load` method being replaced by `open`. To continue using Deep Lake 3.x, use `pip install \"deeplake<4\"`. For information on migrating your code, see https://docs.deeplake.ai/latest/details/v3_conversion/",
     "output_type": "error",
     "traceback": [
      "\u001b[0;31m---------------------------------------------------------------------------\u001b[0m",
      "\u001b[0;31mException\u001b[0m                                 Traceback (most recent call last)",
      "Cell \u001b[0;32mIn[14], line 2\u001b[0m\n\u001b[1;32m      1\u001b[0m \u001b[38;5;28;01mimport\u001b[39;00m\u001b[38;5;250m \u001b[39m\u001b[38;5;21;01mhub\u001b[39;00m\n\u001b[0;32m----> 2\u001b[0m ds \u001b[38;5;241m=\u001b[39m \u001b[43mhub\u001b[49m\u001b[38;5;241;43m.\u001b[39;49m\u001b[43mload\u001b[49m\u001b[43m(\u001b[49m\u001b[38;5;124;43m'\u001b[39;49m\u001b[38;5;124;43m/kaggle/input/food-recognition-2022/hub/train/\u001b[39;49m\u001b[38;5;124;43m'\u001b[39;49m\u001b[43m)\u001b[49m\n",
      "File \u001b[0;32m~/.cache/pypoetry/virtualenvs/what_to_eat?-VX4KL3sG-py3.12/lib/python3.12/site-packages/deeplake/__init__.py:167\u001b[0m, in \u001b[0;36mload\u001b[0;34m(*args, **kwargs)\u001b[0m\n\u001b[1;32m    163\u001b[0m \u001b[38;5;28;01mdef\u001b[39;00m\u001b[38;5;250m \u001b[39m\u001b[38;5;21mload\u001b[39m(\u001b[38;5;241m*\u001b[39margs, \u001b[38;5;241m*\u001b[39m\u001b[38;5;241m*\u001b[39mkwargs):\n\u001b[1;32m    164\u001b[0m \u001b[38;5;250m    \u001b[39m\u001b[38;5;124;03m\"\"\"\u001b[39;00m\n\u001b[1;32m    165\u001b[0m \u001b[38;5;124;03m    .. deprecated:: 4.0.0\u001b[39;00m\n\u001b[1;32m    166\u001b[0m \u001b[38;5;124;03m    \"\"\"\u001b[39;00m\n\u001b[0;32m--> 167\u001b[0m     \u001b[38;5;28;01mraise\u001b[39;00m \u001b[38;5;167;01mException\u001b[39;00m(\n\u001b[1;32m    168\u001b[0m \u001b[38;5;250m        \u001b[39m\u001b[38;5;124;03m\"\"\"\u001b[39;00m\n\u001b[1;32m    169\u001b[0m \u001b[38;5;124;03mThe API for Deep Lake 4.0 has changed significantly, including the `load` method being replaced by `open`.\u001b[39;00m\n\u001b[1;32m    170\u001b[0m \u001b[38;5;124;03mTo continue using Deep Lake 3.x, use `pip install \"deeplake<4\"`.\u001b[39;00m\n\u001b[1;32m    171\u001b[0m \u001b[38;5;124;03mFor information on migrating your code, see https://docs.deeplake.ai/latest/details/v3_conversion/\u001b[39;00m\n\u001b[1;32m    172\u001b[0m \u001b[38;5;124;03m    \"\"\"\u001b[39;00m\u001b[38;5;241m.\u001b[39mreplace(\n\u001b[1;32m    173\u001b[0m             \u001b[38;5;124m\"\u001b[39m\u001b[38;5;130;01m\\n\u001b[39;00m\u001b[38;5;124m\"\u001b[39m, \u001b[38;5;124m\"\u001b[39m\u001b[38;5;124m \u001b[39m\u001b[38;5;124m\"\u001b[39m\n\u001b[1;32m    174\u001b[0m         )\u001b[38;5;241m.\u001b[39mstrip()\n\u001b[1;32m    175\u001b[0m     )\n",
      "\u001b[0;31mException\u001b[0m: The API for Deep Lake 4.0 has changed significantly, including the `load` method being replaced by `open`. To continue using Deep Lake 3.x, use `pip install \"deeplake<4\"`. For information on migrating your code, see https://docs.deeplake.ai/latest/details/v3_conversion/"
     ]
    }
   ],
   "source": [
    "import hub\n",
    "ds = hub.load('/kaggle/input/food-recognition-2022/hub/train/')"
   ]
  }
 ],
 "metadata": {
  "kernelspec": {
   "display_name": "what_to_eat?-VX4KL3sG-py3.12",
   "language": "python",
   "name": "python3"
  },
  "language_info": {
   "codemirror_mode": {
    "name": "ipython",
    "version": 3
   },
   "file_extension": ".py",
   "mimetype": "text/x-python",
   "name": "python",
   "nbconvert_exporter": "python",
   "pygments_lexer": "ipython3",
   "version": "3.12.3"
  }
 },
 "nbformat": 4,
 "nbformat_minor": 2
}
